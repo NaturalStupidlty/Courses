{
 "cells": [
  {
   "cell_type": "code",
   "execution_count": 1,
   "id": "04b0a0fc",
   "metadata": {},
   "outputs": [
    {
     "name": "stdout",
     "output_type": "stream",
     "text": [
      "RMSE:  2.8037448735049324\n"
     ]
    }
   ],
   "source": [
    "import numpy as np\n",
    "import pandas as pd\n",
    "import joblib\n",
    "from sklearn.model_selection import train_test_split\n",
    "from sklearn.preprocessing import MinMaxScaler\n",
    "from sklearn.metrics import mean_squared_error\n",
    "\n",
    "def clean_data(path: str, sample_size = 50000):\n",
    "    df = pd.read_csv(path)\n",
    "    df = df.dropna()\n",
    "    df.describe()\n",
    "    platform_dummies = pd.get_dummies(df['platform'], drop_first=True)\n",
    "    df = df.drop(['platform'],axis=1)\n",
    "    df = pd.concat([df, platform_dummies],axis=1)\n",
    "    media_source_dummies = pd.get_dummies(df['media_source'], drop_first=True)\n",
    "    df = df.drop(['media_source'], axis=1)\n",
    "    df = pd.concat([df, media_source_dummies], axis=1)\n",
    "    country_code_dummies = pd.get_dummies(df['country_code'], drop_first=True)\n",
    "    df = df.drop(['country_code'], axis=1)\n",
    "    df = pd.concat([df, country_code_dummies], axis=1)\n",
    "    df = df.drop(['install_date'], axis=1)\n",
    "    if (sample_size):\n",
    "        df = df.sample(sample_size)\n",
    "    Y = df[['target_full_ltv_day30']]\n",
    "    df.drop(['target_sub_ltv_day30', 'target_iap_ltv_day30', 'target_ad_ltv_day30', 'target_full_ltv_day30'], axis = 1, inplace = True)\n",
    "    return df, Y\n",
    "\n",
    "X, y = clean_data('data.csv', 0)\n",
    "scaler = MinMaxScaler()\n",
    "X = scaler.fit_transform(X)\n",
    "\n",
    "model = joblib.load(\"Model.joblib\")\n",
    "\n",
    "prediction = model.predict(X)\n",
    "prediction = np.where(prediction > 0, prediction, 0) \n",
    "\n",
    "# Our main metric is Root Mean Squared Error\n",
    "# it’s better to use the RMSE to measure error because\n",
    "# the RMSE is more sensitive to observations that are further from the mean.\n",
    "\n",
    "print(\"RMSE: \", np.sqrt(mean_squared_error(prediction, y)))"
   ]
  },
  {
   "cell_type": "code",
   "execution_count": null,
   "id": "aa3f59cc",
   "metadata": {},
   "outputs": [],
   "source": []
  }
 ],
 "metadata": {
  "kernelspec": {
   "display_name": "Python 3 (ipykernel)",
   "language": "python",
   "name": "python3"
  },
  "language_info": {
   "codemirror_mode": {
    "name": "ipython",
    "version": 3
   },
   "file_extension": ".py",
   "mimetype": "text/x-python",
   "name": "python",
   "nbconvert_exporter": "python",
   "pygments_lexer": "ipython3",
   "version": "3.7.13"
  }
 },
 "nbformat": 4,
 "nbformat_minor": 5
}
