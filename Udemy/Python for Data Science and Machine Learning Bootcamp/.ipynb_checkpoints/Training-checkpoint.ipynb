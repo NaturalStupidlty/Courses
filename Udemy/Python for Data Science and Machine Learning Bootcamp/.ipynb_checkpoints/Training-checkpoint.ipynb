{
 "cells": [
  {
   "cell_type": "code",
   "execution_count": 1,
   "id": "a35cdec8",
   "metadata": {},
   "outputs": [],
   "source": [
    "# Jupyter notebook with EDA process and model training"
   ]
  },
  {
   "cell_type": "code",
   "execution_count": 2,
   "id": "b3ccad71",
   "metadata": {},
   "outputs": [],
   "source": [
    "import numpy as np\n",
    "import pandas as pd"
   ]
  },
  {
   "cell_type": "code",
   "execution_count": 3,
   "id": "f3501307",
   "metadata": {},
   "outputs": [
    {
     "name": "stdout",
     "output_type": "stream",
     "text": [
      "<class 'pandas.core.frame.DataFrame'>\n",
      "RangeIndex: 1467832 entries, 0 to 1467831\n",
      "Data columns (total 63 columns):\n",
      " #   Column                      Non-Null Count    Dtype  \n",
      "---  ------                      --------------    -----  \n",
      " 0   total_sessions_day0         1466467 non-null  float64\n",
      " 1   total_sessions_day1         1466465 non-null  float64\n",
      " 2   total_sessions_day3         1466464 non-null  float64\n",
      " 3   total_sessions_day7         1466458 non-null  float64\n",
      " 4   chapters_finished_day0      1467832 non-null  int64  \n",
      " 5   chapters_finished_day1      1467832 non-null  int64  \n",
      " 6   chapters_finished_day3      1467832 non-null  int64  \n",
      " 7   chapters_finished_day7      1467832 non-null  int64  \n",
      " 8   chapters_opened_day0        1467832 non-null  int64  \n",
      " 9   chapters_opened_day1        1467832 non-null  int64  \n",
      " 10  chapters_opened_day3        1467832 non-null  int64  \n",
      " 11  chapters_opened_day7        1467832 non-null  int64  \n",
      " 12  chapters_closed_day0        1467832 non-null  int64  \n",
      " 13  chapters_closed_day1        1467832 non-null  int64  \n",
      " 14  chapters_closed_day3        1467832 non-null  int64  \n",
      " 15  chapters_closed_day7        1467832 non-null  int64  \n",
      " 16  diamonds_received_day0      1467832 non-null  int64  \n",
      " 17  diamonds_received_day1      1467832 non-null  int64  \n",
      " 18  diamonds_received_day3      1467832 non-null  int64  \n",
      " 19  diamonds_received_day7      1467832 non-null  int64  \n",
      " 20  diamonds_spent_day0         1467832 non-null  int64  \n",
      " 21  diamonds_spent_day1         1467832 non-null  int64  \n",
      " 22  diamonds_spent_day3         1467832 non-null  int64  \n",
      " 23  diamonds_spent_day7         1467832 non-null  int64  \n",
      " 24  tickets_spent_day0          1467832 non-null  int64  \n",
      " 25  tickets_spent_day1          1467832 non-null  int64  \n",
      " 26  tickets_spent_day3          1467832 non-null  int64  \n",
      " 27  tickets_spent_day7          1467832 non-null  int64  \n",
      " 28  retained_day1               1467832 non-null  int64  \n",
      " 29  retained_day3               1467832 non-null  int64  \n",
      " 30  retained_day7               1467832 non-null  int64  \n",
      " 31  chapters_finished_session1  1467832 non-null  int64  \n",
      " 32  chapters_finished_session3  1467832 non-null  int64  \n",
      " 33  chapters_finished_session9  1467832 non-null  int64  \n",
      " 34  chapters_opened_session1    1467832 non-null  int64  \n",
      " 35  chapters_opened_session3    1467832 non-null  int64  \n",
      " 36  chapters_opened_session9    1467832 non-null  int64  \n",
      " 37  chapters_closed_session1    1467832 non-null  int64  \n",
      " 38  chapters_closed_session3    1467832 non-null  int64  \n",
      " 39  chapters_closed_session9    1467832 non-null  int64  \n",
      " 40  diamonds_spent_session1     1467832 non-null  int64  \n",
      " 41  diamonds_spent_session3     1467832 non-null  int64  \n",
      " 42  diamonds_spent_session9     1467832 non-null  int64  \n",
      " 43  tickets_spent_session1      1467832 non-null  int64  \n",
      " 44  tickets_spent_session3      1467832 non-null  int64  \n",
      " 45  tickets_spent_session9      1467832 non-null  int64  \n",
      " 46  app_sub_ltv_day0            1467832 non-null  float64\n",
      " 47  app_sub_ltv_day1            1467832 non-null  float64\n",
      " 48  app_sub_ltv_day3            1467832 non-null  float64\n",
      " 49  app_iap_ltv_day0            1467832 non-null  float64\n",
      " 50  app_iap_ltv_day1            1467832 non-null  float64\n",
      " 51  app_iap_ltv_day3            1467832 non-null  float64\n",
      " 52  media_source                1467832 non-null  object \n",
      " 53  install_date                1467832 non-null  object \n",
      " 54  country_code                1467832 non-null  object \n",
      " 55  ad_ltv_day0                 1467832 non-null  float64\n",
      " 56  ad_ltv_day1                 1467832 non-null  float64\n",
      " 57  ad_ltv_day3                 1467832 non-null  float64\n",
      " 58  platform                    1467832 non-null  object \n",
      " 59  target_sub_ltv_day30        1467832 non-null  float64\n",
      " 60  target_iap_ltv_day30        1467832 non-null  float64\n",
      " 61  target_ad_ltv_day30         1467832 non-null  float64\n",
      " 62  target_full_ltv_day30       1467832 non-null  float64\n",
      "dtypes: float64(17), int64(42), object(4)\n",
      "memory usage: 705.5+ MB\n"
     ]
    }
   ],
   "source": [
    "df = pd.read_csv('data.csv')\n",
    "df.info()"
   ]
  },
  {
   "cell_type": "code",
   "execution_count": 4,
   "id": "582a2629",
   "metadata": {},
   "outputs": [
    {
     "data": {
      "text/plain": [
       "total_sessions_day0       1365\n",
       "total_sessions_day1       1367\n",
       "total_sessions_day3       1368\n",
       "total_sessions_day7       1374\n",
       "chapters_finished_day0       0\n",
       "                          ... \n",
       "platform                     0\n",
       "target_sub_ltv_day30         0\n",
       "target_iap_ltv_day30         0\n",
       "target_ad_ltv_day30          0\n",
       "target_full_ltv_day30        0\n",
       "Length: 63, dtype: int64"
      ]
     },
     "execution_count": 4,
     "metadata": {},
     "output_type": "execute_result"
    }
   ],
   "source": [
    "df.isnull().sum()"
   ]
  },
  {
   "cell_type": "code",
   "execution_count": 5,
   "id": "8e38a2ca",
   "metadata": {},
   "outputs": [],
   "source": [
    "def clean_data(path: str, sample_size = 50000):\n",
    "    df = pd.read_csv(path)\n",
    "    \n",
    "    # Get rid of missing some values for columns\n",
    "    # total_sessions_day, total_sessions_day1, total_sessions_day3, total_sessions_day7\n",
    "    # We have got relatively not much missing data, so it won't affect the result\n",
    "    \n",
    "    df = df.dropna()\n",
    "    df.describe()\n",
    "    \n",
    "    # Convert platform, media_source and country_code columns into dummie variables columns\n",
    "    \n",
    "    platform_dummies = pd.get_dummies(df['platform'], drop_first=True)\n",
    "    df = df.drop(['platform'],axis=1)\n",
    "    df = pd.concat([df, platform_dummies],axis=1)\n",
    "    \n",
    "    media_source_dummies = pd.get_dummies(df['media_source'], drop_first=True)\n",
    "    df = df.drop(['media_source'], axis=1)\n",
    "    df = pd.concat([df, media_source_dummies], axis=1)\n",
    "   \n",
    "    country_code_dummies = pd.get_dummies(df['country_code'], drop_first=True)\n",
    "    df = df.drop(['country_code'], axis=1)\n",
    "    df = pd.concat([df, country_code_dummies], axis=1)\n",
    "    \n",
    "    # Get rid of install_date because we don't need it\n",
    "    \n",
    "    df = df.drop(['install_date'], axis=1)\n",
    "    if (sample_size):\n",
    "        df = df.sample(sample_size)\n",
    "    Y = df[['target_full_ltv_day30']]\n",
    "    \n",
    "    df.drop(['target_sub_ltv_day30', 'target_iap_ltv_day30', 'target_ad_ltv_day30', 'target_full_ltv_day30'], axis = 1, inplace = True)\n",
    "    \n",
    "    return df, Y"
   ]
  },
  {
   "cell_type": "code",
   "execution_count": 6,
   "id": "a93c964a",
   "metadata": {},
   "outputs": [],
   "source": [
    "X, Y = clean_data('data.csv', 50000)"
   ]
  },
  {
   "cell_type": "code",
   "execution_count": 7,
   "id": "e41850e2",
   "metadata": {},
   "outputs": [],
   "source": [
    "from sklearn.model_selection import train_test_split\n",
    "\n",
    "def split(X, y):\n",
    "    return train_test_split(X, y, test_size=0.001)\n",
    "X_train, X_test, y_train, y_test = split(X, Y)"
   ]
  },
  {
   "cell_type": "code",
   "execution_count": 8,
   "id": "9cf9de87",
   "metadata": {},
   "outputs": [],
   "source": [
    "from sklearn.preprocessing import MinMaxScaler\n",
    "scaler = MinMaxScaler()\n",
    "X_train = scaler.fit_transform(X_train)\n",
    "X_test = scaler.transform(X_test)"
   ]
  },
  {
   "cell_type": "code",
   "execution_count": 9,
   "id": "2cd90eda",
   "metadata": {},
   "outputs": [],
   "source": [
    "# Regression problem is considered one of the most common Machine Learning tasks.\n",
    "# There are various approaches, for example, using a standalone model\n",
    "# of the Linear Regression or the Decision Tree. However, if you work\n",
    "# with a single model you will probably not get any good results."
   ]
  },
  {
   "cell_type": "code",
   "execution_count": 10,
   "id": "186d7759",
   "metadata": {},
   "outputs": [],
   "source": [
    "# Therefore, ensemble learning and Random Forests may be quite a good aproach"
   ]
  },
  {
   "cell_type": "code",
   "execution_count": null,
   "id": "35a5baea",
   "metadata": {},
   "outputs": [
    {
     "name": "stderr",
     "output_type": "stream",
     "text": [
      "/Users/tylerdurden/opt/anaconda3/envs/tf/lib/python3.7/site-packages/ipykernel_launcher.py:3: DataConversionWarning: A column-vector y was passed when a 1d array was expected. Please change the shape of y to (n_samples,), for example using ravel().\n",
      "  This is separate from the ipykernel package so we can avoid doing imports until\n"
     ]
    }
   ],
   "source": [
    "from sklearn.ensemble import RandomForestRegressor\n",
    "model = RandomForestRegressor(max_depth=500)\n",
    "model.fit(X_train, y_train)"
   ]
  },
  {
   "cell_type": "code",
   "execution_count": null,
   "id": "5af34c7e",
   "metadata": {},
   "outputs": [],
   "source": [
    "prediction = model.predict(X_test)\n",
    "prediction = np.where(prediction > 0, prediction, 0) "
   ]
  },
  {
   "cell_type": "code",
   "execution_count": null,
   "id": "2b7e61c1",
   "metadata": {},
   "outputs": [],
   "source": [
    "from sklearn.metrics import mean_absolute_error, mean_squared_error, mean_absolute_percentage_error"
   ]
  },
  {
   "cell_type": "code",
   "execution_count": null,
   "id": "1b8bc102",
   "metadata": {},
   "outputs": [],
   "source": [
    "print(\"MAE: \", mean_absolute_error(prediction, y_test))\n",
    "print(\"MAPE: \", mean_absolute_percentage_error(prediction, y_test))\n",
    "print(\"RMSE: \", np.sqrt(mean_squared_error(prediction, y_test)))"
   ]
  },
  {
   "cell_type": "code",
   "execution_count": null,
   "id": "a2e14fd2",
   "metadata": {},
   "outputs": [],
   "source": [
    "# Our main metric here was a RMSE\n",
    "# it’s better to use the RMSE to measure error because\n",
    "# the RMSE is more sensitive to observations that are further from the mean.\n",
    "# As we can see, the model works quite well \n",
    "# and gives relatively good results for all metrics\n",
    "# A large depth of the forest also helped to get more accurate target prediction"
   ]
  },
  {
   "cell_type": "code",
   "execution_count": null,
   "id": "dd2771ac",
   "metadata": {},
   "outputs": [],
   "source": [
    "import joblib\n",
    "joblib.dump(model, \"Model.joblib\")"
   ]
  }
 ],
 "metadata": {
  "kernelspec": {
   "display_name": "Python 3 (ipykernel)",
   "language": "python",
   "name": "python3"
  },
  "language_info": {
   "codemirror_mode": {
    "name": "ipython",
    "version": 3
   },
   "file_extension": ".py",
   "mimetype": "text/x-python",
   "name": "python",
   "nbconvert_exporter": "python",
   "pygments_lexer": "ipython3",
   "version": "3.7.13"
  }
 },
 "nbformat": 4,
 "nbformat_minor": 5
}
