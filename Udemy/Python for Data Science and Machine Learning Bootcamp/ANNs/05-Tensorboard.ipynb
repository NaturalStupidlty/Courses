{
 "cells": [
  {
   "cell_type": "markdown",
   "metadata": {},
   "source": [
    "<a href=\"https://www.pieriandata.com\"><img src=\"../Pierian_Data_Logo.PNG\"></a>\n",
    "<strong><center>Copyright by Pierian Data Inc.</center></strong> \n",
    "<strong><center>Created by Jose Marcial Portilla.</center></strong>"
   ]
  },
  {
   "cell_type": "markdown",
   "metadata": {},
   "source": [
    "# Tensorboard\n",
    "\n",
    "---\n",
    "---\n",
    "\n",
    "**NOTE: You must watch the corresponding video to understand this lecture. This notebook can't serve as a full guide. Please watch the video BEFORE posting questions to the QA forum.**\n",
    "\n",
    "---\n",
    "---\n",
    "\n",
    "Let's explore the built in data visualization capabilities that come with Tensorboard.\n",
    "\n",
    "Full official tutorial available here: https://www.tensorflow.org/tensorboard/get_started\n",
    "\n",
    "## Data"
   ]
  },
  {
   "cell_type": "code",
   "execution_count": 26,
   "metadata": {},
   "outputs": [],
   "source": [
    "import pandas as pd\n",
    "import numpy as np"
   ]
  },
  {
   "cell_type": "code",
   "execution_count": 27,
   "metadata": {},
   "outputs": [],
   "source": [
    "df = pd.read_csv('../DATA/cancer_classification.csv')"
   ]
  },
  {
   "cell_type": "markdown",
   "metadata": {},
   "source": [
    "### Train Test Split"
   ]
  },
  {
   "cell_type": "code",
   "execution_count": 28,
   "metadata": {},
   "outputs": [],
   "source": [
    "X = df.drop('benign_0__mal_1',axis=1).values\n",
    "y = df['benign_0__mal_1'].values"
   ]
  },
  {
   "cell_type": "code",
   "execution_count": 29,
   "metadata": {},
   "outputs": [],
   "source": [
    "from sklearn.model_selection import train_test_split"
   ]
  },
  {
   "cell_type": "code",
   "execution_count": 30,
   "metadata": {},
   "outputs": [],
   "source": [
    "X_train, X_test, y_train, y_test = train_test_split(X,y,test_size=0.25,random_state=101)"
   ]
  },
  {
   "cell_type": "markdown",
   "metadata": {},
   "source": [
    "\n",
    "### Scaling Data"
   ]
  },
  {
   "cell_type": "code",
   "execution_count": 31,
   "metadata": {},
   "outputs": [],
   "source": [
    "from sklearn.preprocessing import MinMaxScaler"
   ]
  },
  {
   "cell_type": "code",
   "execution_count": 32,
   "metadata": {},
   "outputs": [],
   "source": [
    "scaler = MinMaxScaler()"
   ]
  },
  {
   "cell_type": "code",
   "execution_count": 33,
   "metadata": {},
   "outputs": [
    {
     "data": {
      "text/plain": [
       "MinMaxScaler()"
      ]
     },
     "execution_count": 33,
     "metadata": {},
     "output_type": "execute_result"
    }
   ],
   "source": [
    "scaler.fit(X_train)"
   ]
  },
  {
   "cell_type": "code",
   "execution_count": 34,
   "metadata": {},
   "outputs": [],
   "source": [
    "X_train = scaler.transform(X_train)\n",
    "X_test = scaler.transform(X_test)"
   ]
  },
  {
   "cell_type": "markdown",
   "metadata": {},
   "source": [
    "## Creating the Model"
   ]
  },
  {
   "cell_type": "code",
   "execution_count": 35,
   "metadata": {},
   "outputs": [],
   "source": [
    "import tensorflow as tf\n",
    "from tensorflow.keras.models import Sequential\n",
    "from tensorflow.keras.layers import Dense, Activation,Dropout"
   ]
  },
  {
   "cell_type": "code",
   "execution_count": 36,
   "metadata": {},
   "outputs": [],
   "source": [
    "from tensorflow.keras.callbacks import EarlyStopping,TensorBoard"
   ]
  },
  {
   "cell_type": "code",
   "execution_count": 37,
   "metadata": {},
   "outputs": [],
   "source": [
    "early_stop = EarlyStopping(monitor='val_loss', mode='min', verbose=1, patience=25)"
   ]
  },
  {
   "cell_type": "code",
   "execution_count": 38,
   "metadata": {},
   "outputs": [
    {
     "data": {
      "text/plain": [
       "'/Users/tylerdurden/Desktop/Data Science/ANNs'"
      ]
     },
     "execution_count": 38,
     "metadata": {},
     "output_type": "execute_result"
    }
   ],
   "source": [
    "pwd"
   ]
  },
  {
   "cell_type": "markdown",
   "metadata": {},
   "source": [
    "## Creating the Tensorboard Callback\n",
    "\n",
    "TensorBoard is a visualization tool provided with TensorFlow.\n",
    "\n",
    "This callback logs events for TensorBoard, including:\n",
    "* Metrics summary plots\n",
    "* Training graph visualization\n",
    "* Activation histograms\n",
    "* Sampled profiling\n",
    "\n",
    "If you have installed TensorFlow with pip, you should be able\n",
    "to launch TensorBoard from the command line:\n",
    "\n",
    "```sh\n",
    "tensorboard --logdir=path_to_your_logs\n",
    "```\n",
    "\n",
    "You can find more information about TensorBoard\n",
    "[here](https://www.tensorflow.org/tensorboard/).\n",
    "\n",
    "    Arguments:\n",
    "        log_dir: the path of the directory where to save the log files to be\n",
    "          parsed by TensorBoard.\n",
    "        histogram_freq: frequency (in epochs) at which to compute activation and\n",
    "          weight histograms for the layers of the model. If set to 0, histograms\n",
    "          won't be computed. Validation data (or split) must be specified for\n",
    "          histogram visualizations.\n",
    "        write_graph: whether to visualize the graph in TensorBoard. The log file\n",
    "          can become quite large when write_graph is set to True.\n",
    "        write_images: whether to write model weights to visualize as image in\n",
    "          TensorBoard.\n",
    "        update_freq: `'batch'` or `'epoch'` or integer. When using `'batch'`,\n",
    "          writes the losses and metrics to TensorBoard after each batch. The same\n",
    "          applies for `'epoch'`. If using an integer, let's say `1000`, the\n",
    "          callback will write the metrics and losses to TensorBoard every 1000\n",
    "          samples. Note that writing too frequently to TensorBoard can slow down\n",
    "          your training.\n",
    "        profile_batch: Profile the batch to sample compute characteristics. By\n",
    "          default, it will profile the second batch. Set profile_batch=0 to\n",
    "          disable profiling. Must run in TensorFlow eager mode.\n",
    "        embeddings_freq: frequency (in epochs) at which embedding layers will\n",
    "          be visualized. If set to 0, embeddings won't be visualized.\n",
    "       "
   ]
  },
  {
   "cell_type": "code",
   "execution_count": 41,
   "metadata": {},
   "outputs": [],
   "source": [
    "from datetime import datetime\n",
    "datetime.now().strftime(\"%Y-%m-%d--%H%M\")\n",
    "\n",
    "log_directory = 'logs/fit'\n",
    "timestamp = datetime.now().strftime(\"%Y-%m-%d--%H%M\")\n",
    "log_directory = log_directory + '/' + timestamp\n",
    "\n",
    "board = TensorBoard(log_dir=log_directory,histogram_freq=1,\n",
    "    write_graph=True,\n",
    "    write_images=True,\n",
    "    update_freq='epoch',\n",
    "    profile_batch=2,\n",
    "    embeddings_freq=1)"
   ]
  },
  {
   "cell_type": "markdown",
   "metadata": {},
   "source": [
    "Now create the model layers:"
   ]
  },
  {
   "cell_type": "code",
   "execution_count": 42,
   "metadata": {},
   "outputs": [],
   "source": [
    "model = Sequential()\n",
    "model.add(Dense(units=30,activation='relu'))\n",
    "model.add(Dropout(0.5))\n",
    "model.add(Dense(units=15,activation='relu'))\n",
    "model.add(Dropout(0.5))\n",
    "model.add(Dense(units=1,activation='sigmoid'))\n",
    "model.compile(loss='binary_crossentropy', optimizer='adam')"
   ]
  },
  {
   "cell_type": "markdown",
   "metadata": {},
   "source": [
    "## Train the Model"
   ]
  },
  {
   "cell_type": "code",
   "execution_count": 43,
   "metadata": {},
   "outputs": [
    {
     "name": "stdout",
     "output_type": "stream",
     "text": [
      "Train on 426 samples, validate on 143 samples\n",
      "Epoch 1/600\n",
      "426/426 [==============================] - 1s 2ms/sample - loss: 0.7002 - val_loss: 0.6704\n",
      "Epoch 2/600\n",
      " 32/426 [=>............................] - ETA: 0s - loss: 0.7155"
     ]
    },
    {
     "name": "stderr",
     "output_type": "stream",
     "text": [
      "2022-07-12 21:42:04.909221: I tensorflow/core/profiler/lib/profiler_session.cc:184] Profiler session started.\n"
     ]
    },
    {
     "name": "stdout",
     "output_type": "stream",
     "text": [
      "426/426 [==============================] - 0s 174us/sample - loss: 0.6796 - val_loss: 0.6595\n",
      "Epoch 3/600\n",
      "426/426 [==============================] - 0s 182us/sample - loss: 0.6576 - val_loss: 0.6435\n",
      "Epoch 4/600\n",
      "426/426 [==============================] - 0s 172us/sample - loss: 0.6448 - val_loss: 0.6246\n",
      "Epoch 5/600\n",
      "426/426 [==============================] - 0s 164us/sample - loss: 0.6366 - val_loss: 0.6063\n",
      "Epoch 6/600\n",
      "426/426 [==============================] - 0s 169us/sample - loss: 0.6171 - val_loss: 0.5855\n",
      "Epoch 7/600\n",
      "426/426 [==============================] - 0s 172us/sample - loss: 0.5918 - val_loss: 0.5642\n",
      "Epoch 8/600\n",
      "426/426 [==============================] - 0s 164us/sample - loss: 0.6005 - val_loss: 0.5429\n",
      "Epoch 9/600\n",
      "426/426 [==============================] - 0s 177us/sample - loss: 0.5493 - val_loss: 0.5088\n",
      "Epoch 10/600\n",
      "426/426 [==============================] - 0s 172us/sample - loss: 0.5546 - val_loss: 0.4829\n",
      "Epoch 11/600\n",
      "426/426 [==============================] - 0s 168us/sample - loss: 0.5376 - val_loss: 0.4660\n",
      "Epoch 12/600\n",
      "426/426 [==============================] - 0s 166us/sample - loss: 0.4822 - val_loss: 0.4345\n",
      "Epoch 13/600\n",
      "426/426 [==============================] - 0s 170us/sample - loss: 0.4870 - val_loss: 0.4044\n",
      "Epoch 14/600\n",
      "426/426 [==============================] - 0s 169us/sample - loss: 0.4640 - val_loss: 0.3823\n",
      "Epoch 15/600\n",
      "426/426 [==============================] - 0s 168us/sample - loss: 0.4363 - val_loss: 0.3576\n",
      "Epoch 16/600\n",
      "426/426 [==============================] - 0s 168us/sample - loss: 0.4018 - val_loss: 0.3337\n",
      "Epoch 17/600\n",
      "426/426 [==============================] - 0s 169us/sample - loss: 0.3984 - val_loss: 0.3146\n",
      "Epoch 18/600\n",
      "426/426 [==============================] - 0s 168us/sample - loss: 0.3882 - val_loss: 0.2999\n",
      "Epoch 19/600\n",
      "426/426 [==============================] - 0s 169us/sample - loss: 0.3467 - val_loss: 0.2797\n",
      "Epoch 20/600\n",
      "426/426 [==============================] - 0s 176us/sample - loss: 0.3338 - val_loss: 0.2599\n",
      "Epoch 21/600\n",
      "426/426 [==============================] - 0s 178us/sample - loss: 0.3300 - val_loss: 0.2433\n",
      "Epoch 22/600\n",
      "426/426 [==============================] - 0s 180us/sample - loss: 0.3573 - val_loss: 0.2386\n",
      "Epoch 23/600\n",
      "426/426 [==============================] - 0s 187us/sample - loss: 0.3308 - val_loss: 0.2323\n",
      "Epoch 24/600\n",
      "426/426 [==============================] - 0s 185us/sample - loss: 0.3285 - val_loss: 0.2194\n",
      "Epoch 25/600\n",
      "426/426 [==============================] - 0s 177us/sample - loss: 0.3215 - val_loss: 0.2312\n",
      "Epoch 26/600\n",
      "426/426 [==============================] - 0s 181us/sample - loss: 0.3176 - val_loss: 0.2148\n",
      "Epoch 27/600\n",
      "426/426 [==============================] - 0s 185us/sample - loss: 0.3116 - val_loss: 0.2051\n",
      "Epoch 28/600\n",
      "426/426 [==============================] - 0s 178us/sample - loss: 0.3136 - val_loss: 0.2075\n",
      "Epoch 29/600\n",
      "426/426 [==============================] - 0s 182us/sample - loss: 0.2871 - val_loss: 0.1973\n",
      "Epoch 30/600\n",
      "426/426 [==============================] - 0s 179us/sample - loss: 0.2563 - val_loss: 0.1877\n",
      "Epoch 31/600\n",
      "426/426 [==============================] - 0s 178us/sample - loss: 0.2718 - val_loss: 0.1847\n",
      "Epoch 32/600\n",
      "426/426 [==============================] - 0s 179us/sample - loss: 0.2603 - val_loss: 0.1786\n",
      "Epoch 33/600\n",
      "426/426 [==============================] - 0s 179us/sample - loss: 0.2487 - val_loss: 0.1815\n",
      "Epoch 34/600\n",
      "426/426 [==============================] - 0s 180us/sample - loss: 0.2522 - val_loss: 0.1771\n",
      "Epoch 35/600\n",
      "426/426 [==============================] - 0s 183us/sample - loss: 0.2436 - val_loss: 0.1733\n",
      "Epoch 36/600\n",
      "426/426 [==============================] - 0s 174us/sample - loss: 0.2303 - val_loss: 0.1611\n",
      "Epoch 37/600\n",
      "426/426 [==============================] - 0s 169us/sample - loss: 0.2409 - val_loss: 0.1590\n",
      "Epoch 38/600\n",
      "426/426 [==============================] - 0s 173us/sample - loss: 0.2278 - val_loss: 0.1524\n",
      "Epoch 39/600\n",
      "426/426 [==============================] - 0s 172us/sample - loss: 0.2300 - val_loss: 0.1693\n",
      "Epoch 40/600\n",
      "426/426 [==============================] - 0s 173us/sample - loss: 0.2150 - val_loss: 0.1506\n",
      "Epoch 41/600\n",
      "426/426 [==============================] - 0s 171us/sample - loss: 0.2246 - val_loss: 0.1519\n",
      "Epoch 42/600\n",
      "426/426 [==============================] - 0s 174us/sample - loss: 0.1911 - val_loss: 0.1434\n",
      "Epoch 43/600\n",
      "426/426 [==============================] - 0s 171us/sample - loss: 0.2116 - val_loss: 0.1430\n",
      "Epoch 44/600\n",
      "426/426 [==============================] - 0s 171us/sample - loss: 0.1883 - val_loss: 0.1393\n",
      "Epoch 45/600\n",
      "426/426 [==============================] - 0s 172us/sample - loss: 0.2057 - val_loss: 0.1444\n",
      "Epoch 46/600\n",
      "426/426 [==============================] - 0s 171us/sample - loss: 0.1821 - val_loss: 0.1373\n",
      "Epoch 47/600\n",
      "426/426 [==============================] - 0s 173us/sample - loss: 0.2050 - val_loss: 0.1331\n",
      "Epoch 48/600\n",
      "426/426 [==============================] - 0s 175us/sample - loss: 0.2188 - val_loss: 0.1499\n",
      "Epoch 49/600\n",
      "426/426 [==============================] - 0s 173us/sample - loss: 0.1851 - val_loss: 0.1341\n",
      "Epoch 50/600\n",
      "426/426 [==============================] - 0s 174us/sample - loss: 0.1839 - val_loss: 0.1338\n",
      "Epoch 51/600\n",
      "426/426 [==============================] - 0s 168us/sample - loss: 0.1784 - val_loss: 0.1294\n",
      "Epoch 52/600\n",
      "426/426 [==============================] - 0s 165us/sample - loss: 0.1663 - val_loss: 0.1308\n",
      "Epoch 53/600\n",
      "426/426 [==============================] - 0s 167us/sample - loss: 0.1711 - val_loss: 0.1320\n",
      "Epoch 54/600\n",
      "426/426 [==============================] - 0s 164us/sample - loss: 0.1546 - val_loss: 0.1228\n",
      "Epoch 55/600\n",
      "426/426 [==============================] - 0s 165us/sample - loss: 0.1803 - val_loss: 0.1307\n",
      "Epoch 56/600\n",
      "426/426 [==============================] - 0s 167us/sample - loss: 0.1691 - val_loss: 0.1258\n",
      "Epoch 57/600\n",
      "426/426 [==============================] - 0s 168us/sample - loss: 0.1798 - val_loss: 0.1236\n",
      "Epoch 58/600\n",
      "426/426 [==============================] - 0s 165us/sample - loss: 0.1678 - val_loss: 0.1364\n",
      "Epoch 59/600\n",
      "426/426 [==============================] - 0s 166us/sample - loss: 0.1728 - val_loss: 0.1263\n",
      "Epoch 60/600\n",
      "426/426 [==============================] - 0s 166us/sample - loss: 0.1685 - val_loss: 0.1214\n",
      "Epoch 61/600\n",
      "426/426 [==============================] - 0s 165us/sample - loss: 0.1519 - val_loss: 0.1185\n",
      "Epoch 62/600\n",
      "426/426 [==============================] - 0s 167us/sample - loss: 0.1468 - val_loss: 0.1229\n",
      "Epoch 63/600\n",
      "426/426 [==============================] - 0s 167us/sample - loss: 0.1519 - val_loss: 0.1143\n",
      "Epoch 64/600\n",
      "426/426 [==============================] - 0s 167us/sample - loss: 0.1362 - val_loss: 0.1194\n",
      "Epoch 65/600\n",
      "426/426 [==============================] - 0s 167us/sample - loss: 0.1417 - val_loss: 0.1146\n",
      "Epoch 66/600\n",
      "426/426 [==============================] - 0s 166us/sample - loss: 0.1489 - val_loss: 0.1185\n",
      "Epoch 67/600\n",
      "426/426 [==============================] - 0s 167us/sample - loss: 0.1458 - val_loss: 0.1144\n",
      "Epoch 68/600\n",
      "426/426 [==============================] - 0s 168us/sample - loss: 0.1324 - val_loss: 0.1206\n",
      "Epoch 69/600\n",
      "426/426 [==============================] - 0s 166us/sample - loss: 0.1299 - val_loss: 0.1166\n",
      "Epoch 70/600\n",
      "426/426 [==============================] - 0s 167us/sample - loss: 0.1513 - val_loss: 0.1128\n",
      "Epoch 71/600\n",
      "426/426 [==============================] - 0s 168us/sample - loss: 0.1290 - val_loss: 0.1136\n",
      "Epoch 72/600\n",
      "426/426 [==============================] - 0s 167us/sample - loss: 0.1404 - val_loss: 0.1118\n",
      "Epoch 73/600\n",
      "426/426 [==============================] - 0s 169us/sample - loss: 0.1356 - val_loss: 0.1142\n",
      "Epoch 74/600\n",
      "426/426 [==============================] - 0s 168us/sample - loss: 0.1205 - val_loss: 0.1177\n",
      "Epoch 75/600\n",
      "426/426 [==============================] - 0s 166us/sample - loss: 0.1182 - val_loss: 0.1141\n",
      "Epoch 76/600\n",
      "426/426 [==============================] - 0s 169us/sample - loss: 0.1268 - val_loss: 0.1117\n",
      "Epoch 77/600\n",
      "426/426 [==============================] - 0s 169us/sample - loss: 0.1265 - val_loss: 0.1119\n",
      "Epoch 78/600\n",
      "426/426 [==============================] - 0s 170us/sample - loss: 0.1293 - val_loss: 0.1184\n",
      "Epoch 79/600\n"
     ]
    },
    {
     "name": "stdout",
     "output_type": "stream",
     "text": [
      "426/426 [==============================] - 0s 167us/sample - loss: 0.1154 - val_loss: 0.1097\n",
      "Epoch 80/600\n",
      "426/426 [==============================] - 0s 166us/sample - loss: 0.1198 - val_loss: 0.1141\n",
      "Epoch 81/600\n",
      "426/426 [==============================] - 0s 168us/sample - loss: 0.1433 - val_loss: 0.1206\n",
      "Epoch 82/600\n",
      "426/426 [==============================] - 0s 165us/sample - loss: 0.1093 - val_loss: 0.1152\n",
      "Epoch 83/600\n",
      "426/426 [==============================] - 0s 175us/sample - loss: 0.1111 - val_loss: 0.1093\n",
      "Epoch 84/600\n",
      "426/426 [==============================] - 0s 173us/sample - loss: 0.1401 - val_loss: 0.1258\n",
      "Epoch 85/600\n",
      "426/426 [==============================] - 0s 172us/sample - loss: 0.1307 - val_loss: 0.1179\n",
      "Epoch 86/600\n",
      "426/426 [==============================] - 0s 173us/sample - loss: 0.1107 - val_loss: 0.1134\n",
      "Epoch 87/600\n",
      "426/426 [==============================] - 0s 174us/sample - loss: 0.1092 - val_loss: 0.1091\n",
      "Epoch 88/600\n",
      "426/426 [==============================] - 0s 176us/sample - loss: 0.1174 - val_loss: 0.1068\n",
      "Epoch 89/600\n",
      "426/426 [==============================] - 0s 174us/sample - loss: 0.1100 - val_loss: 0.1237\n",
      "Epoch 90/600\n",
      "426/426 [==============================] - 0s 177us/sample - loss: 0.1233 - val_loss: 0.1194\n",
      "Epoch 91/600\n",
      "426/426 [==============================] - 0s 179us/sample - loss: 0.1240 - val_loss: 0.1086\n",
      "Epoch 92/600\n",
      "426/426 [==============================] - 0s 176us/sample - loss: 0.1083 - val_loss: 0.1197\n",
      "Epoch 93/600\n",
      "426/426 [==============================] - 0s 168us/sample - loss: 0.1088 - val_loss: 0.1023\n",
      "Epoch 94/600\n",
      "426/426 [==============================] - 0s 170us/sample - loss: 0.1185 - val_loss: 0.1113\n",
      "Epoch 95/600\n",
      "426/426 [==============================] - 0s 178us/sample - loss: 0.1297 - val_loss: 0.1113\n",
      "Epoch 96/600\n",
      "426/426 [==============================] - 0s 174us/sample - loss: 0.1059 - val_loss: 0.1116\n",
      "Epoch 97/600\n",
      "426/426 [==============================] - 0s 177us/sample - loss: 0.1237 - val_loss: 0.1509\n",
      "Epoch 98/600\n",
      "426/426 [==============================] - 0s 176us/sample - loss: 0.1159 - val_loss: 0.1092\n",
      "Epoch 99/600\n",
      "426/426 [==============================] - 0s 167us/sample - loss: 0.0960 - val_loss: 0.1107\n",
      "Epoch 100/600\n",
      "426/426 [==============================] - 0s 166us/sample - loss: 0.1254 - val_loss: 0.1123\n",
      "Epoch 101/600\n",
      "426/426 [==============================] - 0s 175us/sample - loss: 0.0983 - val_loss: 0.1041\n",
      "Epoch 102/600\n",
      "426/426 [==============================] - 0s 168us/sample - loss: 0.1207 - val_loss: 0.1251\n",
      "Epoch 103/600\n",
      "426/426 [==============================] - 0s 166us/sample - loss: 0.1053 - val_loss: 0.1061\n",
      "Epoch 104/600\n",
      "426/426 [==============================] - 0s 176us/sample - loss: 0.1129 - val_loss: 0.1129\n",
      "Epoch 105/600\n",
      "426/426 [==============================] - 0s 175us/sample - loss: 0.1204 - val_loss: 0.1105\n",
      "Epoch 106/600\n",
      "426/426 [==============================] - 0s 172us/sample - loss: 0.1042 - val_loss: 0.1118\n",
      "Epoch 107/600\n",
      "426/426 [==============================] - 0s 169us/sample - loss: 0.1095 - val_loss: 0.1260\n",
      "Epoch 108/600\n",
      "426/426 [==============================] - 0s 167us/sample - loss: 0.0796 - val_loss: 0.1074\n",
      "Epoch 109/600\n",
      "426/426 [==============================] - 0s 173us/sample - loss: 0.0953 - val_loss: 0.1151\n",
      "Epoch 110/600\n",
      "426/426 [==============================] - 0s 172us/sample - loss: 0.0877 - val_loss: 0.1091\n",
      "Epoch 111/600\n",
      "426/426 [==============================] - 0s 188us/sample - loss: 0.1155 - val_loss: 0.1138\n",
      "Epoch 112/600\n",
      "426/426 [==============================] - 0s 182us/sample - loss: 0.1147 - val_loss: 0.1337\n",
      "Epoch 113/600\n",
      "426/426 [==============================] - 0s 175us/sample - loss: 0.1036 - val_loss: 0.1044\n",
      "Epoch 114/600\n",
      "426/426 [==============================] - 0s 176us/sample - loss: 0.0887 - val_loss: 0.1143\n",
      "Epoch 115/600\n",
      "426/426 [==============================] - 0s 172us/sample - loss: 0.1145 - val_loss: 0.1109\n",
      "Epoch 116/600\n",
      "426/426 [==============================] - 0s 175us/sample - loss: 0.0984 - val_loss: 0.1150\n",
      "Epoch 117/600\n",
      "426/426 [==============================] - 0s 172us/sample - loss: 0.0889 - val_loss: 0.1163\n",
      "Epoch 118/600\n",
      "426/426 [==============================] - 0s 172us/sample - loss: 0.1087 - val_loss: 0.1148\n",
      "Epoch 00118: early stopping\n"
     ]
    },
    {
     "data": {
      "text/plain": [
       "<tensorflow.python.keras.callbacks.History at 0x7feb5d1b2250>"
      ]
     },
     "execution_count": 43,
     "metadata": {},
     "output_type": "execute_result"
    }
   ],
   "source": [
    "model.fit(x=X_train, \n",
    "          y=y_train, \n",
    "          epochs=600,\n",
    "          validation_data=(X_test, y_test), verbose=1,\n",
    "          callbacks=[early_stop,board]\n",
    "          )"
   ]
  },
  {
   "cell_type": "markdown",
   "metadata": {},
   "source": [
    "# Running Tensorboard\n"
   ]
  },
  {
   "cell_type": "markdown",
   "metadata": {},
   "source": [
    "## Running through the Command Line\n",
    "\n",
    "**Watch video to see how to run Tensorboard through a command line call.**"
   ]
  },
  {
   "cell_type": "markdown",
   "metadata": {},
   "source": [
    "Tensorboard will run locally in your browser at [http://localhost:6006/](http://localhost:6006/)\n"
   ]
  },
  {
   "cell_type": "code",
   "execution_count": 44,
   "metadata": {},
   "outputs": [
    {
     "name": "stdout",
     "output_type": "stream",
     "text": [
      "logs/fit/2022-07-12--2142\n"
     ]
    }
   ],
   "source": [
    "print(log_directory)"
   ]
  },
  {
   "cell_type": "code",
   "execution_count": 45,
   "metadata": {},
   "outputs": [
    {
     "data": {
      "text/plain": [
       "'/Users/tylerdurden/Desktop/Data Science/ANNs'"
      ]
     },
     "execution_count": 45,
     "metadata": {},
     "output_type": "execute_result"
    }
   ],
   "source": [
    "pwd"
   ]
  },
  {
   "cell_type": "markdown",
   "metadata": {},
   "source": [
    "### Use cd at your command line to change directory to the file path reported back by pwd or your current .py file location.\n",
    "### Then run this code at your command line or terminal"
   ]
  },
  {
   "cell_type": "code",
   "execution_count": 46,
   "metadata": {},
   "outputs": [
    {
     "ename": "SyntaxError",
     "evalue": "invalid syntax (1592440942.py, line 1)",
     "output_type": "error",
     "traceback": [
      "\u001b[0;36m  File \u001b[0;32m\"/var/folders/8r/80qp0xcx3p986rp4th0s50140000gn/T/ipykernel_3402/1592440942.py\"\u001b[0;36m, line \u001b[0;32m1\u001b[0m\n\u001b[0;31m    tensorboard --logdir logs\\fit\u001b[0m\n\u001b[0m                            ^\u001b[0m\n\u001b[0;31mSyntaxError\u001b[0m\u001b[0;31m:\u001b[0m invalid syntax\n"
     ]
    }
   ],
   "source": [
    "tensorboard --logdir logs/fit/2022-07-12--2142"
   ]
  },
  {
   "cell_type": "code",
   "execution_count": null,
   "metadata": {},
   "outputs": [],
   "source": []
  }
 ],
 "metadata": {
  "kernelspec": {
   "display_name": "Python 3 (ipykernel)",
   "language": "python",
   "name": "python3"
  },
  "language_info": {
   "codemirror_mode": {
    "name": "ipython",
    "version": 3
   },
   "file_extension": ".py",
   "mimetype": "text/x-python",
   "name": "python",
   "nbconvert_exporter": "python",
   "pygments_lexer": "ipython3",
   "version": "3.7.13"
  }
 },
 "nbformat": 4,
 "nbformat_minor": 2
}
